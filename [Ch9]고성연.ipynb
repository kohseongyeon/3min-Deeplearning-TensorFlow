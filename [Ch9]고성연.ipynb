{
 "cells": [
  {
   "cell_type": "markdown",
   "metadata": {},
   "source": [
    "### GAN\n",
    "**- 실제 이미지를 주고, 구분자에게 이 이미지 진짜임을 판단하게 함 <br/> - 생성자를 통해 노이즈로부터 임의의 이미지 생성<br/> - 그 이미지를 다시 같은 구분자를 통해 진짜인지 판단하게 함<br/>**\n",
    "→ 생성자와 구분자의 경쟁을 통해 생성자는 실제 이미지와 상당히 비슷한 이미지 생성"
   ]
  },
  {
   "cell_type": "code",
   "execution_count": 1,
   "metadata": {},
   "outputs": [
    {
     "name": "stdout",
     "output_type": "stream",
     "text": [
      "Extracting ./mnist/data/train-images-idx3-ubyte.gz\n",
      "Extracting ./mnist/data/train-labels-idx1-ubyte.gz\n",
      "Extracting ./mnist/data/t10k-images-idx3-ubyte.gz\n",
      "Extracting ./mnist/data/t10k-labels-idx1-ubyte.gz\n"
     ]
    }
   ],
   "source": [
    "import tensorflow as tf\n",
    "import matplotlib.pyplot as plt\n",
    "import numpy as np\n",
    "\n",
    "from tensorflow.examples.tutorials.mnist import input_data\n",
    "mnist = input_data.read_data_sets(\"./mnist/data/\", one_hot=True)"
   ]
  },
  {
   "cell_type": "code",
   "execution_count": 2,
   "metadata": {},
   "outputs": [],
   "source": [
    "total_epoch = 100\n",
    "batch_size = 100\n",
    "learning_rate = 0.0002\n",
    "n_hidden = 256\n",
    "n_input = 28*28\n",
    "# 생성자의 입력값으로 사용할 노이즈 크기\n",
    "n_noise = 128"
   ]
  },
  {
   "cell_type": "code",
   "execution_count": 3,
   "metadata": {},
   "outputs": [],
   "source": [
    "X = tf.placeholder(tf.float32, [None, n_input])\n",
    "# 노이즈를 입력할 플레이스홀더 Z (가짜 이미지는 노이즈에서 생성) \n",
    "Z = tf.placeholder(tf.float32, [None, n_noise])"
   ]
  },
  {
   "cell_type": "code",
   "execution_count": 5,
   "metadata": {},
   "outputs": [],
   "source": [
    "# 생성자 신경망에 사용할 변수\n",
    "G_W1 = tf.Variable(tf.random_normal([n_noise, n_hidden], stddev=0.01))\n",
    "G_b1 = tf.Variable(tf.zeros([n_hidden]))\n",
    "G_W2 = tf.Variable(tf.random_normal([n_hidden, n_input], stddev=0.01))\n",
    "G_b2 = tf.Variable(tf.zeros([n_input]))"
   ]
  },
  {
   "cell_type": "code",
   "execution_count": 6,
   "metadata": {},
   "outputs": [],
   "source": [
    "# 구분자 신경망에 사용할 변수\n",
    "D_W1 = tf.Variable(tf.random_normal([n_input, n_hidden], stddev=0.01))\n",
    "D_b1 = tf.Variable(tf.zeros([n_hidden]))\n",
    "D_W2 = tf.Variable(tf.random_normal([n_hidden, 1], stddev=0.01))\n",
    "D_b2 = tf.Variable(tf.zeros([1]))"
   ]
  },
  {
   "cell_type": "code",
   "execution_count": 7,
   "metadata": {},
   "outputs": [],
   "source": [
    "# 생성자\n",
    "# 실제 이미지와 같은 크기의 결과값 출력\n",
    "def generator(noise_z):\n",
    "    hidden = tf.nn.relu(tf.matmul(noise_z, G_W1) + G_b1)\n",
    "    output = tf.nn.sigmoid(tf.matmul(hidden, G_W2) + G_b2)\n",
    "    \n",
    "    return output"
   ]
  },
  {
   "cell_type": "code",
   "execution_count": 8,
   "metadata": {},
   "outputs": [],
   "source": [
    "# 구분자\n",
    "# 0~1 사이의 스칼라값 하나 출력\n",
    "def discriminator(inputs):\n",
    "    hidden = tf.nn.relu(tf.matmul(inputs, D_W1) + D_b1)\n",
    "    output = tf.nn.sigmoid(tf.matmul(hidden, D_W2) + D_b2)\n",
    "    \n",
    "    return output"
   ]
  },
  {
   "cell_type": "code",
   "execution_count": 17,
   "metadata": {},
   "outputs": [],
   "source": [
    "# 무작위한 노이즈\n",
    "def get_noise(batch_size, n_noise):\n",
    "    return np.random.normal(size=(batch_size, n_noise))"
   ]
  },
  {
   "cell_type": "code",
   "execution_count": 10,
   "metadata": {},
   "outputs": [],
   "source": [
    "G = generator(Z)\n",
    "D_gene = discriminator(G)\n",
    "D_real = discriminator(X)"
   ]
  },
  {
   "cell_type": "code",
   "execution_count": 11,
   "metadata": {},
   "outputs": [],
   "source": [
    "# 손실값 - 경찰 학습용\n",
    "# D_real 은 1에 가까워야함 (진짜라고 판별)\n",
    "# D_gene 은 0에 가까워야함 (가짜라고 판별)\n",
    "# loss_D 값을 최대화\n",
    "loss_D = tf.reduce_mean(tf.log(D_real)+tf.log(1-D_gene))"
   ]
  },
  {
   "cell_type": "code",
   "execution_count": 12,
   "metadata": {},
   "outputs": [],
   "source": [
    "# 손실값 - 위조지폐범 학습용\n",
    "# D_gene 은 1에 가까워야함 (가짜이미지를 넣어도 진짜같다고 판별)\n",
    "# loss_G 값을 최대화\n",
    "# loss_D와 loss_G는 서로 증가하면 하락하는 경쟁관계\n",
    "loss_G = tf.reduce_mean(tf.log(D_gene))"
   ]
  },
  {
   "cell_type": "code",
   "execution_count": 13,
   "metadata": {},
   "outputs": [],
   "source": [
    "# loss_D를 구할때는 구분자 신경망에 사용되는 변수들만 사용\n",
    "# loss_G를 구할때는 생성자 신경망에 사용되는 변수들만 사용\n",
    "# 그래야 loss_D 학습할땐 생성자 변하지 않고, loss_G 학습할땐 구분자 변하지 않음\n",
    "D_var_list = [D_W1, D_b1, D_W2, D_b2]\n",
    "G_var_list = [G_W1, G_b1, G_W2, G_b2]"
   ]
  },
  {
   "cell_type": "code",
   "execution_count": 14,
   "metadata": {},
   "outputs": [],
   "source": [
    "# loss를 최대화 해야하는데 최적화에 쓸 수 있는 함수는 minimize뿐임\n",
    "# 따라서 loss_D와 loss_G에 음수 부호 붙이기\n",
    "train_D = tf.train.AdamOptimizer(learning_rate).minimize(-loss_D, var_list=D_var_list)\n",
    "train_G = tf.train.AdamOptimizer(learning_rate).minimize(-loss_G, var_list=G_var_list)"
   ]
  },
  {
   "cell_type": "code",
   "execution_count": 15,
   "metadata": {},
   "outputs": [],
   "source": [
    "sess = tf.Session()\n",
    "sess.run(tf.global_variables_initializer())\n",
    "\n",
    "total_batch = int(mnist.train.num_examples / batch_size)\n",
    "loss_val_D, loss_val_G = 0, 0"
   ]
  },
  {
   "cell_type": "code",
   "execution_count": 18,
   "metadata": {},
   "outputs": [
    {
     "name": "stdout",
     "output_type": "stream",
     "text": [
      "Epoch: 0000 D loss: -0.5022 G loss: -2.03\n",
      "Epoch: 0001 D loss: -0.3032 G loss: -2.573\n",
      "Epoch: 0002 D loss: -0.199 G loss: -2.715\n",
      "Epoch: 0003 D loss: -0.4047 G loss: -1.729\n",
      "Epoch: 0004 D loss: -0.2652 G loss: -2.386\n",
      "Epoch: 0005 D loss: -0.3727 G loss: -2.302\n",
      "Epoch: 0006 D loss: -0.5898 G loss: -1.817\n",
      "Epoch: 0007 D loss: -0.4333 G loss: -2.221\n",
      "Epoch: 0008 D loss: -0.3463 G loss: -2.11\n",
      "Epoch: 0009 D loss: -0.2463 G loss: -2.692\n",
      "Epoch: 0010 D loss: -0.241 G loss: -2.612\n",
      "Epoch: 0011 D loss: -0.3913 G loss: -2.667\n",
      "Epoch: 0012 D loss: -0.3514 G loss: -2.381\n",
      "Epoch: 0013 D loss: -0.3553 G loss: -2.527\n",
      "Epoch: 0014 D loss: -0.2548 G loss: -2.53\n",
      "Epoch: 0015 D loss: -0.2696 G loss: -2.644\n",
      "Epoch: 0016 D loss: -0.377 G loss: -2.424\n",
      "Epoch: 0017 D loss: -0.5054 G loss: -2.178\n",
      "Epoch: 0018 D loss: -0.4251 G loss: -2.407\n",
      "Epoch: 0019 D loss: -0.4149 G loss: -2.44\n",
      "Epoch: 0020 D loss: -0.3796 G loss: -2.622\n",
      "Epoch: 0021 D loss: -0.5134 G loss: -2.337\n",
      "Epoch: 0022 D loss: -0.5686 G loss: -2.183\n",
      "Epoch: 0023 D loss: -0.5164 G loss: -2.269\n",
      "Epoch: 0024 D loss: -0.5743 G loss: -2.099\n",
      "Epoch: 0025 D loss: -0.3423 G loss: -2.892\n",
      "Epoch: 0026 D loss: -0.4107 G loss: -2.4\n",
      "Epoch: 0027 D loss: -0.4627 G loss: -2.12\n",
      "Epoch: 0028 D loss: -0.3912 G loss: -2.228\n",
      "Epoch: 0029 D loss: -0.5588 G loss: -2.558\n",
      "Epoch: 0030 D loss: -0.6116 G loss: -2.064\n",
      "Epoch: 0031 D loss: -0.3726 G loss: -2.699\n",
      "Epoch: 0032 D loss: -0.5423 G loss: -2.168\n",
      "Epoch: 0033 D loss: -0.4379 G loss: -2.405\n",
      "Epoch: 0034 D loss: -0.448 G loss: -2.327\n",
      "Epoch: 0035 D loss: -0.5167 G loss: -2.545\n",
      "Epoch: 0036 D loss: -0.5804 G loss: -2.167\n",
      "Epoch: 0037 D loss: -0.5042 G loss: -2.4\n",
      "Epoch: 0038 D loss: -0.6509 G loss: -2.224\n",
      "Epoch: 0039 D loss: -0.7648 G loss: -2.507\n",
      "Epoch: 0040 D loss: -0.5012 G loss: -2.294\n",
      "Epoch: 0041 D loss: -0.6062 G loss: -2.25\n",
      "Epoch: 0042 D loss: -0.5162 G loss: -2.166\n",
      "Epoch: 0043 D loss: -0.5842 G loss: -2.211\n",
      "Epoch: 0044 D loss: -0.5131 G loss: -2.107\n",
      "Epoch: 0045 D loss: -0.518 G loss: -2.131\n",
      "Epoch: 0046 D loss: -0.6697 G loss: -2.395\n",
      "Epoch: 0047 D loss: -0.4945 G loss: -2.085\n",
      "Epoch: 0048 D loss: -0.51 G loss: -2.166\n",
      "Epoch: 0049 D loss: -0.729 G loss: -2.125\n",
      "Epoch: 0050 D loss: -0.6571 G loss: -2.09\n",
      "Epoch: 0051 D loss: -0.5567 G loss: -2.334\n",
      "Epoch: 0052 D loss: -0.5911 G loss: -2.121\n",
      "Epoch: 0053 D loss: -0.562 G loss: -2.159\n",
      "Epoch: 0054 D loss: -0.6536 G loss: -2.19\n",
      "Epoch: 0055 D loss: -0.6552 G loss: -2.162\n",
      "Epoch: 0056 D loss: -0.7343 G loss: -2.001\n",
      "Epoch: 0057 D loss: -0.5072 G loss: -2.266\n",
      "Epoch: 0058 D loss: -0.6432 G loss: -1.971\n",
      "Epoch: 0059 D loss: -0.8397 G loss: -1.815\n",
      "Epoch: 0060 D loss: -0.4919 G loss: -2.203\n",
      "Epoch: 0061 D loss: -0.6943 G loss: -1.64\n",
      "Epoch: 0062 D loss: -0.6123 G loss: -2.016\n",
      "Epoch: 0063 D loss: -0.6207 G loss: -2.082\n",
      "Epoch: 0064 D loss: -0.6278 G loss: -1.977\n",
      "Epoch: 0065 D loss: -0.6896 G loss: -1.926\n",
      "Epoch: 0066 D loss: -0.706 G loss: -2.039\n",
      "Epoch: 0067 D loss: -0.7209 G loss: -1.947\n",
      "Epoch: 0068 D loss: -0.706 G loss: -1.917\n",
      "Epoch: 0069 D loss: -0.7697 G loss: -1.803\n",
      "Epoch: 0070 D loss: -0.7183 G loss: -2.067\n",
      "Epoch: 0071 D loss: -0.5569 G loss: -2.108\n",
      "Epoch: 0072 D loss: -0.6387 G loss: -2.194\n",
      "Epoch: 0073 D loss: -0.6652 G loss: -2.019\n",
      "Epoch: 0074 D loss: -0.5383 G loss: -2.153\n",
      "Epoch: 0075 D loss: -0.6034 G loss: -1.872\n",
      "Epoch: 0076 D loss: -0.6611 G loss: -1.895\n",
      "Epoch: 0077 D loss: -0.5873 G loss: -2.011\n",
      "Epoch: 0078 D loss: -0.725 G loss: -1.836\n",
      "Epoch: 0079 D loss: -0.7559 G loss: -1.971\n",
      "Epoch: 0080 D loss: -0.6811 G loss: -1.773\n",
      "Epoch: 0081 D loss: -0.5847 G loss: -2.128\n",
      "Epoch: 0082 D loss: -0.7079 G loss: -1.936\n",
      "Epoch: 0083 D loss: -0.6131 G loss: -1.971\n",
      "Epoch: 0084 D loss: -0.5999 G loss: -2.002\n",
      "Epoch: 0085 D loss: -0.6208 G loss: -2.134\n",
      "Epoch: 0086 D loss: -0.6712 G loss: -2.094\n",
      "Epoch: 0087 D loss: -0.5841 G loss: -2.063\n",
      "Epoch: 0088 D loss: -0.6834 G loss: -2.338\n",
      "Epoch: 0089 D loss: -0.6776 G loss: -2.024\n",
      "Epoch: 0090 D loss: -0.6061 G loss: -2.039\n",
      "Epoch: 0091 D loss: -0.6026 G loss: -2.207\n",
      "Epoch: 0092 D loss: -0.6521 G loss: -2.332\n",
      "Epoch: 0093 D loss: -0.5557 G loss: -2.324\n",
      "Epoch: 0094 D loss: -0.5821 G loss: -1.913\n",
      "Epoch: 0095 D loss: -0.5927 G loss: -1.856\n",
      "Epoch: 0096 D loss: -0.6475 G loss: -1.827\n",
      "Epoch: 0097 D loss: -0.7058 G loss: -2.086\n",
      "Epoch: 0098 D loss: -0.5521 G loss: -2.131\n",
      "Epoch: 0099 D loss: -0.6302 G loss: -2.077\n",
      "최적화 완료!\n"
     ]
    }
   ],
   "source": [
    "for epoch in range(total_epoch):\n",
    "    for i in range(total_batch):\n",
    "        batch_xs, batch_ys = mnist.train.next_batch(batch_size)\n",
    "        noise = get_noise(batch_size, n_noise)\n",
    "\n",
    "        _, loss_val_D = sess.run([train_D, loss_D], feed_dict={X: batch_xs, Z: noise})\n",
    "        _, loss_val_G = sess.run([train_G, loss_G], feed_dict={Z: noise})\n",
    "\n",
    "    print('Epoch:', '%04d' % epoch,\n",
    "          'D loss: {:.4}'.format(loss_val_D),\n",
    "          'G loss: {:.4}'.format(loss_val_G))\n",
    "    \n",
    "    if epoch == 0 or (epoch + 1) % 10 == 0:\n",
    "        sample_size = 10\n",
    "        noise = get_noise(sample_size, n_noise)\n",
    "        samples = sess.run(G, feed_dict={Z: noise})\n",
    "\n",
    "        fig, ax = plt.subplots(1, sample_size, figsize=(sample_size, 1))\n",
    "\n",
    "        for i in range(sample_size):\n",
    "            ax[i].set_axis_off()\n",
    "            ax[i].imshow(np.reshape(samples[i], (28, 28)))\n",
    "\n",
    "        plt.savefig('samples/{}.png'.format(str(epoch).zfill(3)), bbox_inches='tight')\n",
    "        plt.close(fig)\n",
    "\n",
    "print('최적화 완료!')"
   ]
  },
  {
   "cell_type": "code",
   "execution_count": 2,
   "metadata": {},
   "outputs": [],
   "source": [
    "#####\n",
    "# 원하는 숫자 지정해 생성하는 모델\n",
    "#####\n",
    "\n",
    "total_epoch = 100\n",
    "batch_size = 100\n",
    "n_hidden = 256\n",
    "n_input = 28 * 28\n",
    "n_noise = 128\n",
    "n_class = 10"
   ]
  },
  {
   "cell_type": "code",
   "execution_count": 3,
   "metadata": {},
   "outputs": [],
   "source": [
    "X = tf.placeholder(tf.float32, [None, n_input])\n",
    "# 노이즈와 실제 이미지에 각각에 해당하는 숫자를 힌트로 넣어주는 용도 Y\n",
    "Y = tf.placeholder(tf.float32, [None, n_class])\n",
    "Z = tf.placeholder(tf.float32, [None, n_noise])"
   ]
  },
  {
   "cell_type": "code",
   "execution_count": 4,
   "metadata": {},
   "outputs": [],
   "source": [
    "# 생성자 신경망\n",
    "def generator(noise, labels):\n",
    "    with tf.variable_scope('generator'):\n",
    "        inputs = tf.concat([noise, labels], 1)\n",
    "        hidden = tf.layers.dense(inputs, n_hidden, activation=tf.nn.relu)\n",
    "        output = tf.layers.dense(hidden, n_input, activation=tf.nn.sigmoid)\n",
    "        \n",
    "    return output"
   ]
  },
  {
   "cell_type": "code",
   "execution_count": 5,
   "metadata": {},
   "outputs": [],
   "source": [
    "# 구분자 신경망\n",
    "def discriminator(inputs, labels, reuse=None):\n",
    "    with tf.variable_scope('discriminator') as scope:\n",
    "        # 이전에 사용한 변수 재사용\n",
    "        # 진짜 이미지를 판별할때와 가짜 이미지를 판별할 때 똑같은 변수 사용해야함\n",
    "        if reuse:\n",
    "            scope.reuse_variables()\n",
    "        \n",
    "        inputs = tf.concat([inputs, labels], 1)\n",
    "        hidden = tf.layers.dense(inputs, n_hidden, activation=tf.nn.relu)\n",
    "        output = tf.layers.dense(hidden, 1, activation=None)\n",
    "\n",
    "    return output        "
   ]
  },
  {
   "cell_type": "code",
   "execution_count": 6,
   "metadata": {},
   "outputs": [],
   "source": [
    "def get_noise(batch_size, n_noise):\n",
    "    return np.random.uniform(-1., 1., size=[batch_size, n_noise])"
   ]
  },
  {
   "cell_type": "code",
   "execution_count": 7,
   "metadata": {},
   "outputs": [],
   "source": [
    "G = generator(Z, Y)\n",
    "D_real = discriminator(X, Y)\n",
    "D_gene = discriminator(G, Y, True)"
   ]
  },
  {
   "cell_type": "code",
   "execution_count": 8,
   "metadata": {},
   "outputs": [],
   "source": [
    "# D_real 값을 1에 가깝도록 하는 손실함수\n",
    "loss_D_real = tf.reduce_mean(tf.nn.sigmoid_cross_entropy_with_logits(logits=D_real, labels=tf.ones_like(D_real)))\n",
    "# D_gene 값을 0에 가깝도록 하는 손실함수\n",
    "loss_D_gene = tf.reduce_mean(tf.nn.sigmoid_cross_entropy_with_logits(logits=D_gene, labels=tf.zeros_like(D_gene)))\n",
    "# loss_D 값을 최소화하여 구분자 학습\n",
    "loss_D = loss_D_real + loss_D_gene"
   ]
  },
  {
   "cell_type": "code",
   "execution_count": 9,
   "metadata": {},
   "outputs": [],
   "source": [
    "# D_gene 값을 1에 가깝도록 하는 손실함수\n",
    "loss_G = tf.reduce_mean(tf.nn.sigmoid_cross_entropy_with_logits(logits=D_gene, labels=tf.ones_like(D_gene)))"
   ]
  },
  {
   "cell_type": "code",
   "execution_count": 10,
   "metadata": {},
   "outputs": [],
   "source": [
    "vars_D = tf.get_collection(tf.GraphKeys.TRAINABLE_VARIABLES, scope='discriminator')\n",
    "vars_G = tf.get_collection(tf.GraphKeys.TRAINABLE_VARIABLES, scope='generator')\n",
    "\n",
    "train_D = tf.train.AdamOptimizer().minimize(loss_D, var_list=vars_D)\n",
    "train_G = tf.train.AdamOptimizer().minimize(loss_G, var_list=vars_G)"
   ]
  },
  {
   "cell_type": "code",
   "execution_count": 11,
   "metadata": {},
   "outputs": [
    {
     "name": "stdout",
     "output_type": "stream",
     "text": [
      "Epoch: 0000 D loss: 0.0123 G loss: 7.933\n",
      "Epoch: 0001 D loss: 0.02002 G loss: 7.485\n",
      "Epoch: 0002 D loss: 0.01276 G loss: 7.077\n",
      "Epoch: 0003 D loss: 0.02375 G loss: 6.731\n",
      "Epoch: 0004 D loss: 0.02979 G loss: 7.262\n",
      "Epoch: 0005 D loss: 0.0331 G loss: 8.376\n",
      "Epoch: 0006 D loss: 0.04067 G loss: 7.367\n",
      "Epoch: 0007 D loss: 0.03982 G loss: 6.857\n",
      "Epoch: 0008 D loss: 0.103 G loss: 7.613\n",
      "Epoch: 0009 D loss: 0.07835 G loss: 6.981\n",
      "Epoch: 0010 D loss: 0.1329 G loss: 5.463\n",
      "Epoch: 0011 D loss: 0.2091 G loss: 4.485\n",
      "Epoch: 0012 D loss: 0.2884 G loss: 4.908\n",
      "Epoch: 0013 D loss: 0.3033 G loss: 4.911\n",
      "Epoch: 0014 D loss: 0.5238 G loss: 4.477\n",
      "Epoch: 0015 D loss: 0.5375 G loss: 4.274\n",
      "Epoch: 0016 D loss: 0.4465 G loss: 3.665\n",
      "Epoch: 0017 D loss: 0.5388 G loss: 3.543\n",
      "Epoch: 0018 D loss: 0.952 G loss: 3.388\n",
      "Epoch: 0019 D loss: 0.6796 G loss: 3.44\n",
      "Epoch: 0020 D loss: 0.5874 G loss: 2.998\n",
      "Epoch: 0021 D loss: 0.5679 G loss: 2.797\n",
      "Epoch: 0022 D loss: 0.8099 G loss: 3.026\n",
      "Epoch: 0023 D loss: 0.4972 G loss: 3.088\n",
      "Epoch: 0024 D loss: 0.6182 G loss: 2.514\n",
      "Epoch: 0025 D loss: 0.7351 G loss: 2.077\n",
      "Epoch: 0026 D loss: 0.8573 G loss: 2.237\n",
      "Epoch: 0027 D loss: 0.7504 G loss: 2.199\n",
      "Epoch: 0028 D loss: 0.5941 G loss: 2.529\n",
      "Epoch: 0029 D loss: 0.642 G loss: 2.143\n",
      "Epoch: 0030 D loss: 0.8481 G loss: 2.111\n",
      "Epoch: 0031 D loss: 0.7988 G loss: 1.998\n",
      "Epoch: 0032 D loss: 0.7617 G loss: 1.844\n",
      "Epoch: 0033 D loss: 0.9275 G loss: 2.134\n",
      "Epoch: 0034 D loss: 0.6517 G loss: 2.617\n",
      "Epoch: 0035 D loss: 0.7935 G loss: 2.153\n",
      "Epoch: 0036 D loss: 0.7798 G loss: 2.232\n",
      "Epoch: 0037 D loss: 0.7796 G loss: 2.218\n",
      "Epoch: 0038 D loss: 0.673 G loss: 2.259\n",
      "Epoch: 0039 D loss: 0.6225 G loss: 2.136\n",
      "Epoch: 0040 D loss: 0.79 G loss: 1.892\n",
      "Epoch: 0041 D loss: 0.7481 G loss: 2.191\n",
      "Epoch: 0042 D loss: 0.6784 G loss: 2.123\n",
      "Epoch: 0043 D loss: 0.7222 G loss: 2.089\n",
      "Epoch: 0044 D loss: 0.6387 G loss: 1.961\n",
      "Epoch: 0045 D loss: 0.8446 G loss: 1.868\n",
      "Epoch: 0046 D loss: 0.5522 G loss: 2.221\n",
      "Epoch: 0047 D loss: 0.7714 G loss: 2.277\n",
      "Epoch: 0048 D loss: 0.6653 G loss: 2.001\n",
      "Epoch: 0049 D loss: 0.9159 G loss: 2.413\n",
      "Epoch: 0050 D loss: 0.7365 G loss: 2.285\n",
      "Epoch: 0051 D loss: 0.7554 G loss: 2.008\n",
      "Epoch: 0052 D loss: 0.8026 G loss: 2.268\n",
      "Epoch: 0053 D loss: 0.6063 G loss: 1.968\n",
      "Epoch: 0054 D loss: 0.6589 G loss: 2.004\n",
      "Epoch: 0055 D loss: 0.6276 G loss: 2.163\n",
      "Epoch: 0056 D loss: 0.7542 G loss: 1.822\n",
      "Epoch: 0057 D loss: 0.7263 G loss: 1.918\n",
      "Epoch: 0058 D loss: 0.6466 G loss: 2.414\n",
      "Epoch: 0059 D loss: 0.7624 G loss: 2.479\n",
      "Epoch: 0060 D loss: 0.7738 G loss: 1.905\n",
      "Epoch: 0061 D loss: 0.7213 G loss: 2.126\n",
      "Epoch: 0062 D loss: 0.8301 G loss: 2.067\n",
      "Epoch: 0063 D loss: 0.7288 G loss: 2.344\n",
      "Epoch: 0064 D loss: 0.8185 G loss: 1.663\n",
      "Epoch: 0065 D loss: 0.5716 G loss: 2.124\n",
      "Epoch: 0066 D loss: 0.7282 G loss: 1.944\n",
      "Epoch: 0067 D loss: 0.7488 G loss: 1.749\n",
      "Epoch: 0068 D loss: 0.8371 G loss: 1.772\n",
      "Epoch: 0069 D loss: 0.7308 G loss: 1.797\n",
      "Epoch: 0070 D loss: 0.9089 G loss: 1.502\n",
      "Epoch: 0071 D loss: 0.8471 G loss: 1.736\n",
      "Epoch: 0072 D loss: 0.7703 G loss: 2.099\n",
      "Epoch: 0073 D loss: 0.8271 G loss: 1.78\n",
      "Epoch: 0074 D loss: 0.7575 G loss: 1.789\n",
      "Epoch: 0075 D loss: 0.7404 G loss: 2.169\n",
      "Epoch: 0076 D loss: 0.7462 G loss: 1.871\n",
      "Epoch: 0077 D loss: 0.8441 G loss: 2.263\n",
      "Epoch: 0078 D loss: 0.8024 G loss: 2.21\n",
      "Epoch: 0079 D loss: 0.7142 G loss: 2.338\n",
      "Epoch: 0080 D loss: 0.7191 G loss: 1.844\n",
      "Epoch: 0081 D loss: 0.882 G loss: 1.92\n",
      "Epoch: 0082 D loss: 0.68 G loss: 1.831\n",
      "Epoch: 0083 D loss: 0.7691 G loss: 1.895\n",
      "Epoch: 0084 D loss: 0.7685 G loss: 2.097\n",
      "Epoch: 0085 D loss: 0.8164 G loss: 2.138\n",
      "Epoch: 0086 D loss: 0.7783 G loss: 1.67\n",
      "Epoch: 0087 D loss: 0.9847 G loss: 1.71\n",
      "Epoch: 0088 D loss: 0.7306 G loss: 2.248\n",
      "Epoch: 0089 D loss: 0.7388 G loss: 2.104\n",
      "Epoch: 0090 D loss: 0.8179 G loss: 1.991\n",
      "Epoch: 0091 D loss: 0.7366 G loss: 1.623\n",
      "Epoch: 0092 D loss: 0.9186 G loss: 1.942\n",
      "Epoch: 0093 D loss: 0.8444 G loss: 1.953\n",
      "Epoch: 0094 D loss: 0.7952 G loss: 2.144\n",
      "Epoch: 0095 D loss: 0.7415 G loss: 1.757\n",
      "Epoch: 0096 D loss: 0.7491 G loss: 1.909\n",
      "Epoch: 0097 D loss: 0.807 G loss: 1.945\n",
      "Epoch: 0098 D loss: 0.8642 G loss: 2.055\n",
      "Epoch: 0099 D loss: 0.7927 G loss: 2.155\n",
      "최적화 완료!\n"
     ]
    }
   ],
   "source": [
    "sess = tf.Session()\n",
    "sess.run(tf.global_variables_initializer())\n",
    "\n",
    "total_batch = int(mnist.train.num_examples/batch_size)\n",
    "loss_val_D, loss_val_G = 0, 0\n",
    "\n",
    "for epoch in range(total_epoch):\n",
    "    for i in range(total_batch):\n",
    "        batch_xs, batch_ys = mnist.train.next_batch(batch_size)\n",
    "        noise = get_noise(batch_size, n_noise)\n",
    "\n",
    "        _, loss_val_D = sess.run([train_D, loss_D], feed_dict={X: batch_xs, Y: batch_ys, Z: noise})\n",
    "        _, loss_val_G = sess.run([train_G, loss_G], feed_dict={Y: batch_ys, Z: noise})\n",
    "\n",
    "    print('Epoch:', '%04d' % epoch,\n",
    "          'D loss: {:.4}'.format(loss_val_D),\n",
    "          'G loss: {:.4}'.format(loss_val_G))\n",
    "    \n",
    "    if epoch == 0 or (epoch + 1) % 10 == 0:\n",
    "        sample_size = 10\n",
    "        noise = get_noise(sample_size, n_noise)\n",
    "        samples = sess.run(G,feed_dict={Y: mnist.test.labels[:sample_size], Z: noise})\n",
    "\n",
    "        fig, ax = plt.subplots(2, sample_size, figsize=(sample_size, 2))\n",
    "\n",
    "        for i in range(sample_size):\n",
    "            ax[0][i].set_axis_off()\n",
    "            ax[1][i].set_axis_off()\n",
    "\n",
    "            ax[0][i].imshow(np.reshape(mnist.test.images[i], (28, 28)))\n",
    "            ax[1][i].imshow(np.reshape(samples[i], (28, 28)))\n",
    "\n",
    "        plt.savefig('samples2/{}.png'.format(str(epoch).zfill(3)), bbox_inches='tight')\n",
    "        plt.close(fig)\n",
    "\n",
    "print('최적화 완료!')\n"
   ]
  },
  {
   "cell_type": "code",
   "execution_count": null,
   "metadata": {},
   "outputs": [],
   "source": []
  }
 ],
 "metadata": {
  "kernelspec": {
   "display_name": "Python 3",
   "language": "python",
   "name": "python3"
  },
  "language_info": {
   "codemirror_mode": {
    "name": "ipython",
    "version": 3
   },
   "file_extension": ".py",
   "mimetype": "text/x-python",
   "name": "python",
   "nbconvert_exporter": "python",
   "pygments_lexer": "ipython3",
   "version": "3.6.5"
  }
 },
 "nbformat": 4,
 "nbformat_minor": 4
}
