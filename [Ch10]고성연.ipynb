{
 "cells": [
  {
   "cell_type": "markdown",
   "metadata": {},
   "source": [
    "## RNN\n",
    "**자연어처리, 음성인식처럼 순서있는 데이터 처리하는데 강점 가진 신경망<br/>**\n",
    "( 앞이나 뒤의 정보에 따라 전체 의미가 달라지거나, 앞의 정보로 다음에 나올 정보 추측하려는 경우에 RNN 사용하면 성능 좋음 )\n",
    "- 셀을 여러개 중첩하여 심층 신경망 만듦\n",
    "- 앞단계에서 학습한 결과 다음단계의 학습에 이용<br/>\n",
    "→ 학습 데이터를 단계별로 구분하여 입력해야 함"
   ]
  },
  {
   "cell_type": "code",
   "execution_count": 1,
   "metadata": {},
   "outputs": [
    {
     "name": "stdout",
     "output_type": "stream",
     "text": [
      "Extracting ./mnist/data/train-images-idx3-ubyte.gz\n",
      "Extracting ./mnist/data/train-labels-idx1-ubyte.gz\n",
      "Extracting ./mnist/data/t10k-images-idx3-ubyte.gz\n",
      "Extracting ./mnist/data/t10k-labels-idx1-ubyte.gz\n"
     ]
    }
   ],
   "source": [
    "import tensorflow as tf\n",
    "\n",
    "from tensorflow.examples.tutorials.mnist import input_data\n",
    "mnist = input_data.read_data_sets(\"./mnist/data/\", one_hot=True)\n",
    "\n",
    "learning_rate = 0.001\n",
    "total_epoch = 30\n",
    "batch_size = 128\n",
    "\n",
    "# RNN 은 순서가 있는 자료를 다루므로, 한 번에 입력받는 갯수와, 총 몇 단계로 이뤄진 데이터를 받을지 설정해야함\n",
    "# 가로 픽셀수를 n_input 으로, 세로 픽셀수를 n_step 으로 설정\n",
    "n_input = 28\n",
    "n_step = 28\n",
    "n_hidden = 128\n",
    "n_class = 10\n",
    "\n",
    "X = tf.placeholder(tf.float32, [None, n_step, n_input])\n",
    "Y = tf.placeholder(tf.float32, [None, n_class])\n",
    "\n",
    "W = tf.Variable(tf.random_normal([n_hidden, n_class]))\n",
    "b = tf.Variable(tf.random_normal([n_class]))"
   ]
  },
  {
   "cell_type": "code",
   "execution_count": 2,
   "metadata": {},
   "outputs": [],
   "source": [
    "# n_hidden개의 출력값 갖는 RNN 셀 생성\n",
    "cell = tf.nn.rnn_cell.BasicRNNCell(n_hidden)"
   ]
  },
  {
   "cell_type": "code",
   "execution_count": 3,
   "metadata": {},
   "outputs": [],
   "source": [
    "# RNN 신경망 완성\n",
    "outputs, states = tf.nn.dynamic_rnn(cell, X, dtype=tf.float32)"
   ]
  },
  {
   "cell_type": "code",
   "execution_count": 4,
   "metadata": {},
   "outputs": [],
   "source": [
    "# RNN 신경망에서 나오는 출력값은 [batch_size, n_step, n_hidden]\n",
    "# 최종 결과값은 실측값과 동일한 형태인 [batch_size, n_class]이어야함\n",
    "# 은닉층의 출력값 형태를 변경해야, W와 행렬곱 수행해서 원하는 최종 출력값 형태 얻을 수 있음\n",
    "# -> [n_step, batch_size, n_hidden]\n",
    "outputs = tf.transpose(outputs, [1, 0, 2])\n",
    "# -> [batch_size, n_hidden]\n",
    "outputs = outputs[-1]"
   ]
  },
  {
   "cell_type": "code",
   "execution_count": 5,
   "metadata": {},
   "outputs": [],
   "source": [
    "model = tf.matmul(outputs, W) + b"
   ]
  },
  {
   "cell_type": "code",
   "execution_count": 6,
   "metadata": {},
   "outputs": [],
   "source": [
    "cost = tf.reduce_mean(tf.nn.softmax_cross_entropy_with_logits_v2(logits=model, labels=Y))\n",
    "optimizer = tf.train.AdamOptimizer(learning_rate).minimize(cost)"
   ]
  },
  {
   "cell_type": "code",
   "execution_count": 7,
   "metadata": {},
   "outputs": [
    {
     "name": "stdout",
     "output_type": "stream",
     "text": [
      "Epoch: 0001 Avg. cost = 0.568\n",
      "Epoch: 0002 Avg. cost = 0.246\n",
      "Epoch: 0003 Avg. cost = 0.191\n",
      "Epoch: 0004 Avg. cost = 0.154\n",
      "Epoch: 0005 Avg. cost = 0.143\n",
      "Epoch: 0006 Avg. cost = 0.127\n",
      "Epoch: 0007 Avg. cost = 0.117\n",
      "Epoch: 0008 Avg. cost = 0.109\n",
      "Epoch: 0009 Avg. cost = 0.107\n",
      "Epoch: 0010 Avg. cost = 0.098\n",
      "Epoch: 0011 Avg. cost = 0.096\n",
      "Epoch: 0012 Avg. cost = 0.093\n",
      "Epoch: 0013 Avg. cost = 0.089\n",
      "Epoch: 0014 Avg. cost = 0.088\n",
      "Epoch: 0015 Avg. cost = 0.086\n",
      "Epoch: 0016 Avg. cost = 0.077\n",
      "Epoch: 0017 Avg. cost = 0.077\n",
      "Epoch: 0018 Avg. cost = 0.076\n",
      "Epoch: 0019 Avg. cost = 0.079\n",
      "Epoch: 0020 Avg. cost = 0.073\n",
      "Epoch: 0021 Avg. cost = 0.068\n",
      "Epoch: 0022 Avg. cost = 0.075\n",
      "Epoch: 0023 Avg. cost = 0.067\n",
      "Epoch: 0024 Avg. cost = 0.063\n",
      "Epoch: 0025 Avg. cost = 0.063\n",
      "Epoch: 0026 Avg. cost = 0.066\n",
      "Epoch: 0027 Avg. cost = 0.067\n",
      "Epoch: 0028 Avg. cost = 0.061\n",
      "Epoch: 0029 Avg. cost = 0.068\n",
      "Epoch: 0030 Avg. cost = 0.062\n",
      "최적화 완료!\n",
      "정확도: 0.9789\n"
     ]
    }
   ],
   "source": [
    "sess = tf.Session()\n",
    "sess.run(tf.global_variables_initializer())\n",
    "\n",
    "total_batch = int(mnist.train.num_examples/batch_size)\n",
    "\n",
    "for epoch in range(total_epoch):\n",
    "    total_cost = 0\n",
    "\n",
    "    for i in range(total_batch):\n",
    "        batch_xs, batch_ys = mnist.train.next_batch(batch_size)\n",
    "        # RNN 입력값 형태에 맞게 [batch_size, n_step, n_input] 형태로 바꿔줌\n",
    "        batch_xs = batch_xs.reshape((batch_size, n_step, n_input))\n",
    "\n",
    "        _, cost_val = sess.run([optimizer, cost],\n",
    "                               feed_dict={X: batch_xs, Y: batch_ys})\n",
    "        total_cost += cost_val\n",
    "\n",
    "    print('Epoch:', '%04d' % (epoch + 1),\n",
    "          'Avg. cost =', '{:.3f}'.format(total_cost / total_batch))\n",
    "\n",
    "print('최적화 완료!')\n",
    "\n",
    "is_correct = tf.equal(tf.argmax(model, 1), tf.argmax(Y, 1))\n",
    "accuracy = tf.reduce_mean(tf.cast(is_correct, tf.float32))\n",
    "\n",
    "test_batch_size = len(mnist.test.images)\n",
    "test_xs = mnist.test.images.reshape(test_batch_size, n_step, n_input)\n",
    "test_ys = mnist.test.labels\n",
    "\n",
    "print('정확도:', sess.run(accuracy,\n",
    "                       feed_dict={X: test_xs, Y: test_ys}))"
   ]
  },
  {
   "cell_type": "markdown",
   "metadata": {},
   "source": [
    "**RNN 모델을 이용하여 단어를 자동 완성하는 프로그램**\n",
    "- 영문자 4개로 구성된 단어를 학습시켜, 3글자만 주어지면 나머지 한 글자를 추천하여 단어를 완성하는 프로그램"
   ]
  },
  {
   "cell_type": "code",
   "execution_count": 1,
   "metadata": {},
   "outputs": [],
   "source": [
    "import tensorflow as tf\n",
    "import numpy as np\n",
    "\n",
    "char_arr = ['a', 'b', 'c', 'd', 'e', 'f', 'g',\n",
    "            'h', 'i', 'j', 'k', 'l', 'm', 'n',\n",
    "            'o', 'p', 'q', 'r', 's', 't', 'u',\n",
    "            'v', 'w', 'x', 'y', 'z']\n",
    "\n",
    "# 원-핫 인코딩 사용 및 디코딩 위하여 연관 배열 만듦\n",
    "# {'a': 0, 'b': 1, 'c': 2, ..., 'j': 9, 'k', 10, ...}\n",
    "num_dic = {n: i for i, n in enumerate(char_arr)}\n",
    "dic_len = len(num_dic)"
   ]
  },
  {
   "cell_type": "code",
   "execution_count": 2,
   "metadata": {},
   "outputs": [],
   "source": [
    "# 학습에 사용할 단어\n",
    "seq_data = ['word', 'wood', 'deep', 'dive', 'cold', 'cool', 'load', 'love', 'kiss', 'kind']"
   ]
  },
  {
   "cell_type": "code",
   "execution_count": 3,
   "metadata": {},
   "outputs": [],
   "source": [
    "# 단어들을 학습에 사용할 수 있는 형식으로 변환해주는 유틸리티 함수\n",
    "\n",
    "def make_batch(seq_data):\n",
    "    input_batch = []\n",
    "    target_batch = []\n",
    "    \n",
    "    for seq in seq_data:\n",
    "        # 입력값용\n",
    "        # 단어의 처음 세글자 알파벳 인덱스를 구한 배열 만듦\n",
    "        input = [num_dic[n] for n in seq[:-1]]\n",
    "        # 출력값용\n",
    "        # 마지막 글자의 알파벳 인덱스를 구함\n",
    "        target = num_dic[seq[-1]]\n",
    "        # 입력값을 원-핫 인코딩으로 변환\n",
    "        input_batch.append(np.eye(dic_len)[input])\n",
    "        # 손실함수로 sparse_softmax_cross_entropy_with_logits 사용할 것이기 때문에\n",
    "        # labels 값에 원-핫 인코딩 사용하지 않고 그대로 넘겨줘도 됨\n",
    "        # 그동안 사용했던 손실함수인 softmax_cross_entropy_with_logits 는 label 값을 원-핫 인코딩으로 넘겨줘야 함\n",
    "        target_batch.append(target)\n",
    "        \n",
    "    return input_batch, target_batch"
   ]
  },
  {
   "cell_type": "code",
   "execution_count": 4,
   "metadata": {},
   "outputs": [],
   "source": [
    "learning_rate = 0.01\n",
    "n_hidden = 128\n",
    "total_epoch = 30\n",
    "\n",
    "n_step = 3\n",
    "# sparse_softmax_cross_entropy_with_logits 를 사용할 때\n",
    "# 실측값인 labels 값은 인덱스의 숫자 그대로 사용하고\n",
    "# 예측모델의 출력값은 인덱스의 원-핫 인코딩을 사용해야 함\n",
    "# -> n_class 값도 n_input과 마찬가지로 dic_len 과 크기 같음\n",
    "n_input = n_class = dic_len"
   ]
  },
  {
   "cell_type": "code",
   "execution_count": 7,
   "metadata": {},
   "outputs": [],
   "source": [
    "X = tf.placeholder(tf.float32, [None, n_step, n_input])\n",
    "Y = tf.placeholder(tf.int32, [None])\n",
    "\n",
    "W = tf.Variable(tf.random_normal([n_hidden, n_class]))\n",
    "b = tf.Variable(tf.random_normal([n_class]))"
   ]
  },
  {
   "cell_type": "code",
   "execution_count": 8,
   "metadata": {},
   "outputs": [],
   "source": [
    "# 두개의 RNN 셀 -> 심층 신경망\n",
    "cell1 = tf.nn.rnn_cell.BasicLSTMCell(n_hidden)\n",
    "# 과적합 방지를 위한 드롭아웃 기법 적용\n",
    "cell1 = tf.nn.rnn_cell.DropoutWrapper(cell1, output_keep_prob=0.5)\n",
    "cell2 = tf.nn.rnn_cell.BasicLSTMCell(n_hidden)"
   ]
  },
  {
   "cell_type": "code",
   "execution_count": 10,
   "metadata": {},
   "outputs": [],
   "source": [
    "# 두개의 셀 조합\n",
    "multi_cell = tf.nn.rnn_cell.MultiRNNCell([cell1, cell2])\n",
    "outputs, states = tf.nn.dynamic_rnn(multi_cell, X, dtype=tf.float32)"
   ]
  },
  {
   "cell_type": "code",
   "execution_count": 11,
   "metadata": {},
   "outputs": [],
   "source": [
    "outputs = tf.transpose(outputs, [1, 0, 2])\n",
    "outputs = outputs[-1]\n",
    "model = tf.matmul(outputs, W) + b"
   ]
  },
  {
   "cell_type": "code",
   "execution_count": 12,
   "metadata": {},
   "outputs": [],
   "source": [
    "cost = tf.reduce_mean(tf.nn.sparse_softmax_cross_entropy_with_logits(logits=model, labels=Y))\n",
    "optimizer = tf.train.AdamOptimizer(learning_rate).minimize(cost)"
   ]
  },
  {
   "cell_type": "code",
   "execution_count": 13,
   "metadata": {},
   "outputs": [
    {
     "name": "stdout",
     "output_type": "stream",
     "text": [
      "Epoch: 0001 cost = 3.487972\n",
      "Epoch: 0002 cost = 2.411238\n",
      "Epoch: 0003 cost = 1.702744\n",
      "Epoch: 0004 cost = 1.056619\n",
      "Epoch: 0005 cost = 1.073420\n",
      "Epoch: 0006 cost = 0.583005\n",
      "Epoch: 0007 cost = 0.345159\n",
      "Epoch: 0008 cost = 0.571403\n",
      "Epoch: 0009 cost = 0.483696\n",
      "Epoch: 0010 cost = 0.205288\n",
      "Epoch: 0011 cost = 0.336313\n",
      "Epoch: 0012 cost = 0.229422\n",
      "Epoch: 0013 cost = 0.171057\n",
      "Epoch: 0014 cost = 0.180321\n",
      "Epoch: 0015 cost = 0.061512\n",
      "Epoch: 0016 cost = 0.071990\n",
      "Epoch: 0017 cost = 0.122550\n",
      "Epoch: 0018 cost = 0.151526\n",
      "Epoch: 0019 cost = 0.075986\n",
      "Epoch: 0020 cost = 0.054566\n",
      "Epoch: 0021 cost = 0.064611\n",
      "Epoch: 0022 cost = 0.021537\n",
      "Epoch: 0023 cost = 0.089278\n",
      "Epoch: 0024 cost = 0.012444\n",
      "Epoch: 0025 cost = 0.077762\n",
      "Epoch: 0026 cost = 0.020067\n",
      "Epoch: 0027 cost = 0.005534\n",
      "Epoch: 0028 cost = 0.007483\n",
      "Epoch: 0029 cost = 0.026209\n",
      "Epoch: 0030 cost = 0.000735\n",
      "최적화 완료!\n"
     ]
    }
   ],
   "source": [
    "# 신경망 학습\n",
    "\n",
    "sess = tf.Session()\n",
    "sess.run(tf.global_variables_initializer())\n",
    "\n",
    "input_batch, target_batch = make_batch(seq_data)\n",
    "\n",
    "for epoch in range(total_epoch):\n",
    "    _, loss = sess.run([optimizer, cost], feed_dict={X: input_batch, Y: target_batch})\n",
    "\n",
    "    print('Epoch:', '%04d' % (epoch + 1), 'cost =', '{:.6f}'.format(loss))\n",
    "\n",
    "print('최적화 완료!')"
   ]
  },
  {
   "cell_type": "code",
   "execution_count": 14,
   "metadata": {},
   "outputs": [],
   "source": [
    "# 실측값 Y는 인덱스를 그대로 사용하므로 정수이다\n",
    "# -> Y와의 비교를 위해 argmax로 변환한 예측값도 정수로 변경 해주어야함\n",
    "prediction = tf.cast(tf.argmax(model, 1), tf.int32)\n",
    "prediction_check = tf.equal(prediction, Y)\n",
    "accuracy = tf.reduce_mean(tf.cast(prediction_check, tf.float32))"
   ]
  },
  {
   "cell_type": "code",
   "execution_count": 15,
   "metadata": {},
   "outputs": [],
   "source": [
    "input_batch, target_batch = make_batch(seq_data)\n",
    "\n",
    "predict, accuracy_val = sess.run([prediction, accuracy], feed_dict={X: input_batch, Y: target_batch})"
   ]
  },
  {
   "cell_type": "code",
   "execution_count": 16,
   "metadata": {},
   "outputs": [
    {
     "name": "stdout",
     "output_type": "stream",
     "text": [
      "\n",
      "=== 예측 결과 ===\n",
      "입력값: ['wor ', 'woo ', 'dee ', 'div ', 'col ', 'coo ', 'loa ', 'lov ', 'kis ', 'kin ']\n",
      "예측값: ['word', 'wood', 'deep', 'dive', 'cold', 'cool', 'load', 'love', 'kiss', 'kind']\n",
      "정확도: 1.0\n"
     ]
    }
   ],
   "source": [
    "predict_words = []\n",
    "for idx, val in enumerate(seq_data):\n",
    "    last_char = char_arr[predict[idx]]\n",
    "    predict_words.append(val[:3] + last_char)\n",
    "\n",
    "print('\\n=== 예측 결과 ===')\n",
    "print('입력값:', [w[:3] + ' ' for w in seq_data])\n",
    "print('예측값:', predict_words)\n",
    "print('정확도:', accuracy_val)"
   ]
  },
  {
   "cell_type": "markdown",
   "metadata": {},
   "source": [
    "### Sequence to Sequence\n",
    "- 순차적 정보 입력받는 신경망(RNN)과 출력하는 신경망 조합한 모델\n",
    "- 입력을 위한 신경망인 인코더와 출력을 위한 신경망인 디코더\n",
    "- 구글이 기계번역에 사용하는 신경망 모델\n",
    "- 번역,챗봇 등 문장 입력받아 다른 문장 출력하는 프로그램에서 사용\n",
    "\n",
    ">**특수한 심볼<br/>**\n",
    "    > S : 디코더에 입력이 시작됨을 알려주는 심볼<br/>\n",
    "    > E : 디코더의 출력이 끝났음을 알려주는 심볼<br/>\n",
    "    > P : 빈 데이터를 채울 때 사용하는 아무 의미없는 심볼"
   ]
  },
  {
   "cell_type": "code",
   "execution_count": 1,
   "metadata": {},
   "outputs": [],
   "source": [
    "#####\n",
    "# 네 글자의 영어 단어를 입력받아 두 글자의 한글 단어로 번역하는 프로그램\n",
    "#####\n",
    "\n",
    "import tensorflow as tf\n",
    "import numpy as np\n",
    "\n",
    "char_arr = [c for c in 'SEPabcdefghijklmnopqrstuvwxyz단어나무놀이소녀키스사랑']\n",
    "num_dic = {n: i for i, n in enumerate(char_arr)}\n",
    "dic_len = len(num_dic)\n",
    "\n",
    "seq_data = [['word', '단어'], ['wood', '나무'],\n",
    "            ['game', '놀이'], ['girl', '소녀'],\n",
    "            ['kiss', '키스'], ['love', '사랑']]"
   ]
  },
  {
   "cell_type": "code",
   "execution_count": 2,
   "metadata": {},
   "outputs": [],
   "source": [
    "# 입력 단어와 출력 단어를 한 글자씩 떼어낸 뒤 배열로 만든 후에\n",
    "# 원-핫 인코딩 형식으로까지 만들어주는 유틸리티 함수\n",
    "\n",
    "def make_batch(seq_data):\n",
    "    input_batch = []\n",
    "    output_batch = []\n",
    "    target_batch = []\n",
    "\n",
    "    for seq in seq_data:\n",
    "        # 인코더 셀의 입력값\n",
    "        # 입력단어의 글자들을 한글자씩 떼어 배열로 만듦\n",
    "        input = [num_dic[n] for n in seq[0]]\n",
    "        # 디코더 셀의 입력값\n",
    "        # 시작을 나타내는 심볼 S를 맨 앞에 붙임\n",
    "        output = [num_dic[n] for n in ('S' + seq[1])]\n",
    "        # 학습을 위해 비교할 디코더 셀의 출력값\n",
    "        # 출력의 끝을 알려주는 심볼 E를 마지막에 붙임\n",
    "        target = [num_dic[n] for n in (seq[1] + 'E')]\n",
    "\n",
    "        input_batch.append(np.eye(dic_len)[input])\n",
    "        output_batch.append(np.eye(dic_len)[output])\n",
    "        # 실측값인 디코더 셀의 출력값은 원-핫 인코딩이 아닌 인덱스 숫자 그대로 사용\n",
    "        target_batch.append(target)\n",
    "\n",
    "    return input_batch, output_batch, target_batch"
   ]
  },
  {
   "cell_type": "code",
   "execution_count": 3,
   "metadata": {},
   "outputs": [],
   "source": [
    "learning_rate = 0.01\n",
    "n_hidden = 128\n",
    "total_epoch = 100\n",
    "n_class = n_input = dic_len\n",
    "\n",
    "enc_input = tf.placeholder(tf.float32, [None, None, n_input])\n",
    "dec_input = tf.placeholder(tf.float32, [None, None, n_input])\n",
    "targets = tf.placeholder(tf.int64, [None, None])"
   ]
  },
  {
   "cell_type": "code",
   "execution_count": 4,
   "metadata": {},
   "outputs": [],
   "source": [
    "# 인코더 셀\n",
    "with tf.variable_scope('encode'):\n",
    "    enc_cell = tf.nn.rnn_cell.BasicRNNCell(n_hidden)\n",
    "    enc_cell = tf.nn.rnn_cell.DropoutWrapper(enc_cell, output_keep_prob=0.5)\n",
    "    \n",
    "    outputs, enc_states = tf.nn.dynamic_rnn(enc_cell, enc_input, dtype=tf.float32)\n",
    "\n",
    "# 디코더 셀   \n",
    "with tf.variable_scope('decode'):\n",
    "    dec_cell = tf.nn.rnn_cell.BasicRNNCell(n_hidden)\n",
    "    dec_cell = tf.nn.rnn_cell.DropoutWrapper(dec_cell, output_keep_prob=0.5)\n",
    "    # 디코더를 만들 때 초기 상태값(입력값X)으로 인코더의 최종 상태값 넣어줘야함\n",
    "    outputs, dec_states = tf.nn.dynamic_rnn(dec_cell, dec_input, initial_state=enc_states, dtype=tf.float32)"
   ]
  },
  {
   "cell_type": "code",
   "execution_count": 5,
   "metadata": {},
   "outputs": [],
   "source": [
    "model = tf.layers.dense(outputs, n_class, activation=None)\n",
    "\n",
    "cost = tf.reduce_mean(tf.nn.sparse_softmax_cross_entropy_with_logits(logits=model, labels=targets))\n",
    "\n",
    "optimizer = tf.train.AdamOptimizer(learning_rate).minimize(cost)"
   ]
  },
  {
   "cell_type": "code",
   "execution_count": 6,
   "metadata": {},
   "outputs": [
    {
     "name": "stdout",
     "output_type": "stream",
     "text": [
      "Epoch: 0001 cost = 3.890341\n",
      "Epoch: 0002 cost = 2.884977\n",
      "Epoch: 0003 cost = 1.737166\n",
      "Epoch: 0004 cost = 1.350623\n",
      "Epoch: 0005 cost = 0.825565\n",
      "Epoch: 0006 cost = 0.629649\n",
      "Epoch: 0007 cost = 0.458868\n",
      "Epoch: 0008 cost = 0.235998\n",
      "Epoch: 0009 cost = 0.332930\n",
      "Epoch: 0010 cost = 0.163457\n",
      "Epoch: 0011 cost = 0.082249\n",
      "Epoch: 0012 cost = 0.144275\n",
      "Epoch: 0013 cost = 0.111416\n",
      "Epoch: 0014 cost = 0.099161\n",
      "Epoch: 0015 cost = 0.110924\n",
      "Epoch: 0016 cost = 0.117621\n",
      "Epoch: 0017 cost = 0.048042\n",
      "Epoch: 0018 cost = 0.161530\n",
      "Epoch: 0019 cost = 0.027336\n",
      "Epoch: 0020 cost = 0.073911\n",
      "Epoch: 0021 cost = 0.009534\n",
      "Epoch: 0022 cost = 0.065020\n",
      "Epoch: 0023 cost = 0.047422\n",
      "Epoch: 0024 cost = 0.005929\n",
      "Epoch: 0025 cost = 0.021642\n",
      "Epoch: 0026 cost = 0.005044\n",
      "Epoch: 0027 cost = 0.014960\n",
      "Epoch: 0028 cost = 0.007402\n",
      "Epoch: 0029 cost = 0.022530\n",
      "Epoch: 0030 cost = 0.012174\n",
      "Epoch: 0031 cost = 0.025575\n",
      "Epoch: 0032 cost = 0.009598\n",
      "Epoch: 0033 cost = 0.004245\n",
      "Epoch: 0034 cost = 0.004368\n",
      "Epoch: 0035 cost = 0.003378\n",
      "Epoch: 0036 cost = 0.009275\n",
      "Epoch: 0037 cost = 0.008687\n",
      "Epoch: 0038 cost = 0.003825\n",
      "Epoch: 0039 cost = 0.002154\n",
      "Epoch: 0040 cost = 0.003888\n",
      "Epoch: 0041 cost = 0.001722\n",
      "Epoch: 0042 cost = 0.003029\n",
      "Epoch: 0043 cost = 0.004974\n",
      "Epoch: 0044 cost = 0.002338\n",
      "Epoch: 0045 cost = 0.018784\n",
      "Epoch: 0046 cost = 0.001291\n",
      "Epoch: 0047 cost = 0.004570\n",
      "Epoch: 0048 cost = 0.002208\n",
      "Epoch: 0049 cost = 0.002620\n",
      "Epoch: 0050 cost = 0.001889\n",
      "Epoch: 0051 cost = 0.003071\n",
      "Epoch: 0052 cost = 0.015807\n",
      "Epoch: 0053 cost = 0.001100\n",
      "Epoch: 0054 cost = 0.001107\n",
      "Epoch: 0055 cost = 0.001276\n",
      "Epoch: 0056 cost = 0.001385\n",
      "Epoch: 0057 cost = 0.001467\n",
      "Epoch: 0058 cost = 0.001080\n",
      "Epoch: 0059 cost = 0.000524\n",
      "Epoch: 0060 cost = 0.001429\n",
      "Epoch: 0061 cost = 0.002616\n",
      "Epoch: 0062 cost = 0.000389\n",
      "Epoch: 0063 cost = 0.001090\n",
      "Epoch: 0064 cost = 0.001677\n",
      "Epoch: 0065 cost = 0.000914\n",
      "Epoch: 0066 cost = 0.001543\n",
      "Epoch: 0067 cost = 0.001450\n",
      "Epoch: 0068 cost = 0.000640\n",
      "Epoch: 0069 cost = 0.000709\n",
      "Epoch: 0070 cost = 0.000667\n",
      "Epoch: 0071 cost = 0.000721\n",
      "Epoch: 0072 cost = 0.001278\n",
      "Epoch: 0073 cost = 0.000791\n",
      "Epoch: 0074 cost = 0.000502\n",
      "Epoch: 0075 cost = 0.000822\n",
      "Epoch: 0076 cost = 0.000243\n",
      "Epoch: 0077 cost = 0.000487\n",
      "Epoch: 0078 cost = 0.000794\n",
      "Epoch: 0079 cost = 0.002698\n",
      "Epoch: 0080 cost = 0.000537\n",
      "Epoch: 0081 cost = 0.000854\n",
      "Epoch: 0082 cost = 0.000601\n",
      "Epoch: 0083 cost = 0.000604\n",
      "Epoch: 0084 cost = 0.000609\n",
      "Epoch: 0085 cost = 0.000726\n",
      "Epoch: 0086 cost = 0.001005\n",
      "Epoch: 0087 cost = 0.000196\n",
      "Epoch: 0088 cost = 0.001965\n",
      "Epoch: 0089 cost = 0.000252\n",
      "Epoch: 0090 cost = 0.001153\n",
      "Epoch: 0091 cost = 0.000339\n",
      "Epoch: 0092 cost = 0.000800\n",
      "Epoch: 0093 cost = 0.000561\n",
      "Epoch: 0094 cost = 0.000464\n",
      "Epoch: 0095 cost = 0.000969\n",
      "Epoch: 0096 cost = 0.001970\n",
      "Epoch: 0097 cost = 0.000479\n",
      "Epoch: 0098 cost = 0.000380\n",
      "Epoch: 0099 cost = 0.000634\n",
      "Epoch: 0100 cost = 0.000202\n",
      "최적화 완료!\n"
     ]
    }
   ],
   "source": [
    "sess = tf.Session()\n",
    "sess.run(tf.global_variables_initializer())\n",
    "\n",
    "input_batch, output_batch, target_batch = make_batch(seq_data)\n",
    "\n",
    "for epoch in range(total_epoch):\n",
    "    _, loss = sess.run([optimizer, cost], \n",
    "                       feed_dict={enc_input: input_batch, \n",
    "                                  dec_input: output_batch,\n",
    "                                  targets: target_batch})\n",
    "\n",
    "    print('Epoch:', '%04d' % (epoch + 1),\n",
    "          'cost =', '{:.6f}'.format(loss))\n",
    "\n",
    "print('최적화 완료!')"
   ]
  },
  {
   "cell_type": "code",
   "execution_count": 7,
   "metadata": {},
   "outputs": [],
   "source": [
    "def translate(word):\n",
    "    # 이 모델은 입력값과 출력값 데이터로 [영어단어, 한글단어] 사용하지만,\n",
    "    # 예측 시에는 한글단어를 알지 못하므로, 디코더의 입출력값 P 값으로 채운다.\n",
    "    seq_data = [word, 'P' * len(word)]\n",
    "\n",
    "    input_batch, output_batch, target_batch = make_batch([seq_data])\n",
    "\n",
    "    prediction = tf.argmax(model, 2)\n",
    "\n",
    "    result = sess.run(prediction,feed_dict={enc_input: input_batch,\n",
    "                                            dec_input: output_batch,\n",
    "                                            targets: target_batch})\n",
    "\n",
    "    # 예측 결과는 글자의 인덱스를 뜻하는 숫자이므로,\n",
    "    # 각 숫자에 해당하는 글자를 가져와 배열 만듦\n",
    "    decoded = [char_arr[i] for i in result[0]]\n",
    "    \n",
    "    # 출력의 끝을 의미하는 E 이후의 글자들 제거하고 문자열로 \n",
    "    end = decoded.index('E')\n",
    "    translated = ''.join(decoded[:end])\n",
    "\n",
    "    return translated"
   ]
  },
  {
   "cell_type": "code",
   "execution_count": 8,
   "metadata": {},
   "outputs": [
    {
     "name": "stdout",
     "output_type": "stream",
     "text": [
      "\n",
      "=== 번역 테스트 ===\n",
      "word -> 단어\n",
      "wodr -> 나무\n",
      "love -> 사랑\n",
      "loev -> 사랑\n",
      "abcd -> 소녀녀\n"
     ]
    }
   ],
   "source": [
    "print('\\n=== 번역 테스트 ===')\n",
    "\n",
    "print('word ->', translate('word'))\n",
    "print('wodr ->', translate('wodr'))\n",
    "print('love ->', translate('love'))\n",
    "print('loev ->', translate('loev'))\n",
    "print('abcd ->', translate('abcd'))"
   ]
  },
  {
   "cell_type": "code",
   "execution_count": null,
   "metadata": {},
   "outputs": [],
   "source": []
  }
 ],
 "metadata": {
  "kernelspec": {
   "display_name": "Python 3",
   "language": "python",
   "name": "python3"
  },
  "language_info": {
   "codemirror_mode": {
    "name": "ipython",
    "version": 3
   },
   "file_extension": ".py",
   "mimetype": "text/x-python",
   "name": "python",
   "nbconvert_exporter": "python",
   "pygments_lexer": "ipython3",
   "version": "3.6.5"
  }
 },
 "nbformat": 4,
 "nbformat_minor": 4
}
