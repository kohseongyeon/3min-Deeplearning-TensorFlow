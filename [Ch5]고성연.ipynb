{
 "cells": [
  {
   "cell_type": "code",
   "execution_count": 1,
   "metadata": {},
   "outputs": [],
   "source": [
    "import tensorflow as tf\n",
    "import numpy as np\n",
    "\n",
    "# 데이터 읽고 변환\n",
    "data = np.loadtxt('./data.csv', delimiter=',', unpack=True, dtype='float32')\n",
    "\n",
    "x_data = np.transpose(data[0:2])\n",
    "y_data = np.transpose(data[2:])"
   ]
  },
  {
   "cell_type": "code",
   "execution_count": 2,
   "metadata": {},
   "outputs": [],
   "source": [
    "# 학습에 직접 사용되지는 않고 학습 횟수를 카운트하는 변수\n",
    "global_step = tf.Variable(0, trainable=False, name='global_step')"
   ]
  },
  {
   "cell_type": "code",
   "execution_count": 3,
   "metadata": {},
   "outputs": [],
   "source": [
    "#######\n",
    "#신경망 모델 구성\n",
    "#######\n",
    "\n",
    "X = tf.placeholder(tf.float32)\n",
    "Y = tf.placeholder(tf.float32)\n",
    "\n",
    "W1 = tf.Variable(tf.random_uniform([2,10], -1., 1.))\n",
    "L1 = tf.nn.relu(tf.matmul(X, W1))\n",
    "\n",
    "W2 = tf.Variable(tf.random_uniform([10,20], -1., 1.))\n",
    "L2 = tf.nn.relu(tf.matmul(L1, W2))\n",
    "\n",
    "W3 = tf.Variable(tf.random_uniform([20,3], -1., 1.))\n",
    "model = tf.matmul(L2, W3)\n",
    "\n",
    "cost = tf.reduce_mean(tf.nn.softmax_cross_entropy_with_logits_v2(labels=Y, logits=model))\n",
    "\n",
    "optimizer = tf.train.AdamOptimizer(learning_rate=0.01)\n",
    "train_op = optimizer.minimize(cost, global_step=global_step)"
   ]
  },
  {
   "cell_type": "code",
   "execution_count": 4,
   "metadata": {},
   "outputs": [],
   "source": [
    "sess = tf.Session()\n",
    "# tf.global_variables() : 앞서 정의한 변수 가져오는 함수\n",
    "# 앞서 정의한 변수 모두 가져와서, 이후 파일에 저장하거나 이전 학습 결과 불러와 담는 변수로 사용\n",
    "saver = tf.train.Saver(tf.global_variables())"
   ]
  },
  {
   "cell_type": "code",
   "execution_count": 5,
   "metadata": {},
   "outputs": [
    {
     "name": "stdout",
     "output_type": "stream",
     "text": [
      "INFO:tensorflow:Restoring parameters from ./model\\dnn.ckpt-2\n"
     ]
    }
   ],
   "source": [
    "# ./model 디렉터리에 기존에 학습해둔 모델 있는지 확인\n",
    "# 모델 있으면 학습된값들 불러오고 아니면 변수 초기화\n",
    "\n",
    "ckpt = tf.train.get_checkpoint_state('./model')\n",
    "if ckpt and tf.train.checkpoint_exists(ckpt.model_checkpoint_path):\n",
    "    saver.restore(sess, ckpt.model_checkpoint_path)\n",
    "else:\n",
    "    sess.run(tf.global_variables_initializer())"
   ]
  },
  {
   "cell_type": "code",
   "execution_count": 6,
   "metadata": {},
   "outputs": [
    {
     "name": "stdout",
     "output_type": "stream",
     "text": [
      "Step: 3 Cost: 0.779\n",
      "Step: 4 Cost: 0.733\n"
     ]
    }
   ],
   "source": [
    "# 최적화 수행\n",
    "for step in range(2):\n",
    "    sess.run(train_op, feed_dict={X: x_data, Y: y_data})\n",
    "    \n",
    "    print('Step: %d' % sess.run(global_step), 'Cost: %.3f' % sess.run(cost, feed_dict={X: x_data, Y: y_data}))"
   ]
  },
  {
   "cell_type": "code",
   "execution_count": 7,
   "metadata": {},
   "outputs": [
    {
     "data": {
      "text/plain": [
       "'./model/dnn.ckpt-4'"
      ]
     },
     "execution_count": 7,
     "metadata": {},
     "output_type": "execute_result"
    }
   ],
   "source": [
    "# 최적화 끝난 뒤, 학습된 변수들 지정된 체크포인트 파일에 저장\n",
    "saver.save(sess, './model/dnn.ckpt', global_step=global_step)"
   ]
  },
  {
   "cell_type": "code",
   "execution_count": 8,
   "metadata": {},
   "outputs": [
    {
     "name": "stdout",
     "output_type": "stream",
     "text": [
      "예측값: [0 1 2 0 0 2]\n",
      "실제값: [0 1 2 0 0 2]\n"
     ]
    }
   ],
   "source": [
    "prediction = tf.argmax(model,1)\n",
    "target = tf.argmax(Y,1)\n",
    "print('예측값:', sess.run(prediction, feed_dict={X: x_data}))\n",
    "print('실제값:', sess.run(target, feed_dict={Y: y_data}))"
   ]
  },
  {
   "cell_type": "code",
   "execution_count": 9,
   "metadata": {},
   "outputs": [
    {
     "name": "stdout",
     "output_type": "stream",
     "text": [
      "정확도: 100.00\n"
     ]
    }
   ],
   "source": [
    "is_correct = tf.equal(prediction, target)\n",
    "accuracy = tf.reduce_mean(tf.cast(is_correct, tf.float32))\n",
    "print('정확도: %.2f' % sess.run(accuracy*100, feed_dict={X: x_data, Y: y_data}))"
   ]
  },
  {
   "cell_type": "code",
   "execution_count": 10,
   "metadata": {},
   "outputs": [
    {
     "name": "stdout",
     "output_type": "stream",
     "text": [
      "Step: 1 Cost: 1.632\n",
      "Step: 2 Cost: 1.507\n",
      "Step: 3 Cost: 1.398\n",
      "Step: 4 Cost: 1.300\n",
      "Step: 5 Cost: 1.222\n",
      "Step: 6 Cost: 1.154\n",
      "Step: 7 Cost: 1.096\n",
      "Step: 8 Cost: 1.045\n",
      "Step: 9 Cost: 1.002\n",
      "Step: 10 Cost: 0.964\n",
      "Step: 11 Cost: 0.930\n",
      "Step: 12 Cost: 0.903\n",
      "Step: 13 Cost: 0.879\n",
      "Step: 14 Cost: 0.857\n",
      "Step: 15 Cost: 0.842\n",
      "Step: 16 Cost: 0.830\n",
      "Step: 17 Cost: 0.817\n",
      "Step: 18 Cost: 0.805\n",
      "Step: 19 Cost: 0.793\n",
      "Step: 20 Cost: 0.781\n",
      "Step: 21 Cost: 0.769\n",
      "Step: 22 Cost: 0.757\n",
      "Step: 23 Cost: 0.745\n",
      "Step: 24 Cost: 0.734\n",
      "Step: 25 Cost: 0.723\n",
      "Step: 26 Cost: 0.712\n",
      "Step: 27 Cost: 0.701\n",
      "Step: 28 Cost: 0.692\n",
      "Step: 29 Cost: 0.683\n",
      "Step: 30 Cost: 0.674\n",
      "Step: 31 Cost: 0.665\n",
      "Step: 32 Cost: 0.657\n",
      "Step: 33 Cost: 0.649\n",
      "Step: 34 Cost: 0.641\n",
      "Step: 35 Cost: 0.634\n",
      "Step: 36 Cost: 0.627\n",
      "Step: 37 Cost: 0.621\n",
      "Step: 38 Cost: 0.615\n",
      "Step: 39 Cost: 0.609\n",
      "Step: 40 Cost: 0.604\n",
      "Step: 41 Cost: 0.599\n",
      "Step: 42 Cost: 0.595\n",
      "Step: 43 Cost: 0.591\n",
      "Step: 44 Cost: 0.587\n",
      "Step: 45 Cost: 0.584\n",
      "Step: 46 Cost: 0.581\n",
      "Step: 47 Cost: 0.578\n",
      "Step: 48 Cost: 0.576\n",
      "Step: 49 Cost: 0.574\n",
      "Step: 50 Cost: 0.572\n",
      "Step: 51 Cost: 0.570\n",
      "Step: 52 Cost: 0.568\n",
      "Step: 53 Cost: 0.567\n",
      "Step: 54 Cost: 0.565\n",
      "Step: 55 Cost: 0.564\n",
      "Step: 56 Cost: 0.563\n",
      "Step: 57 Cost: 0.562\n",
      "Step: 58 Cost: 0.561\n",
      "Step: 59 Cost: 0.560\n",
      "Step: 60 Cost: 0.560\n",
      "Step: 61 Cost: 0.559\n",
      "Step: 62 Cost: 0.558\n",
      "Step: 63 Cost: 0.558\n",
      "Step: 64 Cost: 0.557\n",
      "Step: 65 Cost: 0.557\n",
      "Step: 66 Cost: 0.557\n",
      "Step: 67 Cost: 0.556\n",
      "Step: 68 Cost: 0.556\n",
      "Step: 69 Cost: 0.555\n",
      "Step: 70 Cost: 0.555\n",
      "Step: 71 Cost: 0.555\n",
      "Step: 72 Cost: 0.555\n",
      "Step: 73 Cost: 0.554\n",
      "Step: 74 Cost: 0.554\n",
      "Step: 75 Cost: 0.554\n",
      "Step: 76 Cost: 0.554\n",
      "Step: 77 Cost: 0.554\n",
      "Step: 78 Cost: 0.554\n",
      "Step: 79 Cost: 0.553\n",
      "Step: 80 Cost: 0.553\n",
      "Step: 81 Cost: 0.553\n",
      "Step: 82 Cost: 0.553\n",
      "Step: 83 Cost: 0.553\n",
      "Step: 84 Cost: 0.553\n",
      "Step: 85 Cost: 0.553\n",
      "Step: 86 Cost: 0.553\n",
      "Step: 87 Cost: 0.552\n",
      "Step: 88 Cost: 0.552\n",
      "Step: 89 Cost: 0.552\n",
      "Step: 90 Cost: 0.552\n",
      "Step: 91 Cost: 0.552\n",
      "Step: 92 Cost: 0.552\n",
      "Step: 93 Cost: 0.552\n",
      "Step: 94 Cost: 0.552\n",
      "Step: 95 Cost: 0.552\n",
      "Step: 96 Cost: 0.552\n",
      "Step: 97 Cost: 0.552\n",
      "Step: 98 Cost: 0.552\n",
      "Step: 99 Cost: 0.552\n",
      "Step: 100 Cost: 0.552\n",
      "예측값: [0 1 2 0 0 2]\n",
      "실제값: [0 1 2 0 0 2]\n",
      "정확도: 100.00\n"
     ]
    }
   ],
   "source": [
    "#######\n",
    "#텐서보드 사용\n",
    "#######\n",
    "\n",
    "# with tf.name_scope로 묶은 블록은 텐서보드에서 한 계층 내부 표현\n",
    "with tf.name_scope('layer1'):\n",
    "    W1 = tf.Variable(tf.random_uniform([2,10], -1., 1.), name='W1')\n",
    "    L1 = tf.nn.relu(tf.matmul(X, W1))\n",
    "    \n",
    "with tf.name_scope('layer2'):\n",
    "    W2 = tf.Variable(tf.random_uniform([10,20], -1., 1.), name='W2')\n",
    "    L2 = tf.nn.relu(tf.matmul(L1, W2))\n",
    "    \n",
    "with tf.name_scope('output'):\n",
    "    W3 = tf.Variable(tf.random_uniform([20,3], -1., 1.), name='W3')\n",
    "    model = tf.matmul(L2, W3)\n",
    "    \n",
    "with tf.name_scope('optimizer'):\n",
    "    cost = tf.reduce_mean(tf.nn.softmax_cross_entropy_with_logits_v2(labels=Y, logits=model))\n",
    "    \n",
    "    \n",
    "    optimizer = tf.train.AdamOptimizer(learning_rate=0.01)\n",
    "    train_op = optimizer.minimize(cost, global_step=global_step)\n",
    "    \n",
    "    tf.summary.scalar('cost', cost)\n",
    "    \n",
    "sess = tf.Session()\n",
    "saver = tf.train.Saver(tf.global_variables())\n",
    "\n",
    "ckpt = tf.train.get_checkpoint_state('./model')\n",
    "if ckpt and tf.train.checkpoint_exists(ckpt.model_checkpoint_path):\n",
    "    saver.restore(sess, ckpt.model_checkpoint_path)\n",
    "else:\n",
    "    sess.run(tf.global_variables_initializer())\n",
    "\n",
    "# 앞서 지정한 텐서들 수집    \n",
    "merged = tf.summary.merge_all()\n",
    "# 그래프와 텐서 값 저장할 디렉터리 설정\n",
    "writer = tf.summary.FileWriter('./logs', sess.graph)\n",
    "\n",
    "for step in range(100):\n",
    "    sess.run(train_op, feed_dict={X: x_data, Y: y_data})\n",
    "    \n",
    "    print('Step: %d' % sess.run(global_step), 'Cost: %.3f' % sess.run(cost, feed_dict={X: x_data, Y: y_data}))\n",
    "    \n",
    "    summary = sess.run(merged, feed_dict={X: x_data, Y: y_data})\n",
    "    writer.add_summary(summary, global_step=sess.run(global_step))\n",
    "    \n",
    "saver.save(sess, './model/dnn.ckpt', global_step=global_step)\n",
    "\n",
    "prediction = tf.argmax(model, 1)\n",
    "target = tf.argmax(Y, 1)\n",
    "print('예측값:', sess.run(prediction, feed_dict={X: x_data}))\n",
    "print('실제값:', sess.run(target, feed_dict={Y: y_data}))\n",
    "\n",
    "is_correct = tf.equal(prediction, target)\n",
    "accuracy = tf.reduce_mean(tf.cast(is_correct, tf.float32))\n",
    "print('정확도: %.2f' % sess.run(accuracy*100, feed_dict={X: x_data, Y: y_data}))"
   ]
  },
  {
   "cell_type": "code",
   "execution_count": null,
   "metadata": {},
   "outputs": [],
   "source": []
  }
 ],
 "metadata": {
  "kernelspec": {
   "display_name": "Python 3",
   "language": "python",
   "name": "python3"
  },
  "language_info": {
   "codemirror_mode": {
    "name": "ipython",
    "version": 3
   },
   "file_extension": ".py",
   "mimetype": "text/x-python",
   "name": "python",
   "nbconvert_exporter": "python",
   "pygments_lexer": "ipython3",
   "version": "3.6.5"
  }
 },
 "nbformat": 4,
 "nbformat_minor": 4
}
