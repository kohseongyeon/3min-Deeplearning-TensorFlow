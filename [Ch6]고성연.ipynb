{
 "cells": [
  {
   "cell_type": "code",
   "execution_count": 25,
   "metadata": {},
   "outputs": [
    {
     "name": "stdout",
     "output_type": "stream",
     "text": [
      "Extracting ./mnist/data/train-images-idx3-ubyte.gz\n",
      "Extracting ./mnist/data/train-labels-idx1-ubyte.gz\n",
      "Extracting ./mnist/data/t10k-images-idx3-ubyte.gz\n",
      "Extracting ./mnist/data/t10k-labels-idx1-ubyte.gz\n"
     ]
    }
   ],
   "source": [
    "import tensorflow as tf\n",
    "import matplotlib.pyplot as plt\n",
    "import numpy as np\n",
    "\n",
    "from tensorflow.examples.tutorials.mnist import input_data\n",
    "mnist = input_data.read_data_sets(\"./mnist/data/\", one_hot=True)"
   ]
  },
  {
   "cell_type": "code",
   "execution_count": 2,
   "metadata": {},
   "outputs": [],
   "source": [
    "X = tf.placeholder(tf.float32, [None, 784])\n",
    "Y = tf.placeholder(tf.float32, [None, 10])"
   ]
  },
  {
   "cell_type": "code",
   "execution_count": 12,
   "metadata": {},
   "outputs": [],
   "source": [
    "W1 = tf.Variable(tf.random_normal([784, 256], stddev=0.01))\n",
    "L1 = tf.nn.relu(tf.matmul(X, W1))\n",
    "\n",
    "W2 = tf.Variable(tf.random_normal([256, 256], stddev=0.01))\n",
    "L2 = tf.nn.relu(tf.matmul(L1, W2))\n",
    "\n",
    "W3 = tf.Variable(tf.random_normal([256, 10], stddev=0.01))\n",
    "model = tf.matmul(L2, W3)"
   ]
  },
  {
   "cell_type": "code",
   "execution_count": 13,
   "metadata": {},
   "outputs": [],
   "source": [
    "cost = tf.reduce_mean(tf.nn.softmax_cross_entropy_with_logits_v2(logits=model, labels=Y))\n",
    "optimizer = tf.train.AdamOptimizer(0.001).minimize(cost)"
   ]
  },
  {
   "cell_type": "code",
   "execution_count": 14,
   "metadata": {},
   "outputs": [],
   "source": [
    "init = tf.global_variables_initializer()\n",
    "sess = tf.Session()\n",
    "sess.run(init)"
   ]
  },
  {
   "cell_type": "code",
   "execution_count": 15,
   "metadata": {
    "scrolled": true
   },
   "outputs": [
    {
     "name": "stdout",
     "output_type": "stream",
     "text": [
      "Epoch: 0001 Avg. cost = 0.409\n",
      "Epoch: 0002 Avg. cost = 0.147\n",
      "Epoch: 0003 Avg. cost = 0.097\n",
      "Epoch: 0004 Avg. cost = 0.067\n",
      "Epoch: 0005 Avg. cost = 0.052\n",
      "Epoch: 0006 Avg. cost = 0.039\n",
      "Epoch: 0007 Avg. cost = 0.030\n",
      "Epoch: 0008 Avg. cost = 0.024\n",
      "Epoch: 0009 Avg. cost = 0.021\n",
      "Epoch: 0010 Avg. cost = 0.019\n",
      "Epoch: 0011 Avg. cost = 0.013\n",
      "Epoch: 0012 Avg. cost = 0.013\n",
      "Epoch: 0013 Avg. cost = 0.013\n",
      "Epoch: 0014 Avg. cost = 0.013\n",
      "Epoch: 0015 Avg. cost = 0.010\n",
      "최적화 완료!\n"
     ]
    }
   ],
   "source": [
    "# 미니배치 : 데이터를 적당한 크기로 잘라서 학습\n",
    "batch_size = 100\n",
    "total_batch = int(mnist.train.num_examples / batch_size)\n",
    "\n",
    "# epoch: 학습 데이터 전체를 한바퀴 도는것 \n",
    "for epoch in range(15):\n",
    "    total_cost = 0\n",
    "    \n",
    "    for i in range(total_batch):\n",
    "        batch_xs, batch_ys = mnist.train.next_batch(batch_size)\n",
    "        # mnist.train 이용해 학습\n",
    "        _, cost_val = sess.run([optimizer, cost], feed_dict={X: batch_xs, Y: batch_ys})\n",
    "        total_cost += cost_val\n",
    "\n",
    "    print('Epoch:', '%04d' % (epoch + 1), 'Avg. cost =', '{:.3f}'.format(total_cost/total_batch))\n",
    "\n",
    "print('최적화 완료!')"
   ]
  },
  {
   "cell_type": "code",
   "execution_count": 16,
   "metadata": {},
   "outputs": [],
   "source": [
    "is_correct = tf.equal(tf.argmax(model,1), tf.argmax(Y,1))\n",
    "accuracy = tf.reduce_mean(tf.cast(is_correct, tf.float32))"
   ]
  },
  {
   "cell_type": "code",
   "execution_count": 17,
   "metadata": {},
   "outputs": [
    {
     "name": "stdout",
     "output_type": "stream",
     "text": [
      "정확도: 0.98\n"
     ]
    }
   ],
   "source": [
    "# mnist.test 이용해 정확도 계산\n",
    "print('정확도:', sess.run(accuracy,feed_dict={X: mnist.test.images,Y: mnist.test.labels}))"
   ]
  },
  {
   "cell_type": "code",
   "execution_count": 9,
   "metadata": {},
   "outputs": [
    {
     "name": "stdout",
     "output_type": "stream",
     "text": [
      "Epoch: 0001 Avg. cost = 0.439\n",
      "Epoch: 0002 Avg. cost = 0.165\n",
      "Epoch: 0003 Avg. cost = 0.116\n",
      "Epoch: 0004 Avg. cost = 0.089\n",
      "Epoch: 0005 Avg. cost = 0.073\n",
      "Epoch: 0006 Avg. cost = 0.061\n",
      "Epoch: 0007 Avg. cost = 0.053\n",
      "Epoch: 0008 Avg. cost = 0.047\n",
      "Epoch: 0009 Avg. cost = 0.041\n",
      "Epoch: 0010 Avg. cost = 0.037\n",
      "Epoch: 0011 Avg. cost = 0.034\n",
      "Epoch: 0012 Avg. cost = 0.032\n",
      "Epoch: 0013 Avg. cost = 0.029\n",
      "Epoch: 0014 Avg. cost = 0.025\n",
      "Epoch: 0015 Avg. cost = 0.025\n",
      "Epoch: 0016 Avg. cost = 0.028\n",
      "Epoch: 0017 Avg. cost = 0.023\n",
      "Epoch: 0018 Avg. cost = 0.021\n",
      "Epoch: 0019 Avg. cost = 0.018\n",
      "Epoch: 0020 Avg. cost = 0.020\n",
      "Epoch: 0021 Avg. cost = 0.021\n",
      "Epoch: 0022 Avg. cost = 0.018\n",
      "Epoch: 0023 Avg. cost = 0.021\n",
      "Epoch: 0024 Avg. cost = 0.019\n",
      "Epoch: 0025 Avg. cost = 0.015\n",
      "Epoch: 0026 Avg. cost = 0.018\n",
      "Epoch: 0027 Avg. cost = 0.018\n",
      "Epoch: 0028 Avg. cost = 0.016\n",
      "Epoch: 0029 Avg. cost = 0.018\n",
      "Epoch: 0030 Avg. cost = 0.016\n",
      "최적화 완료!\n"
     ]
    }
   ],
   "source": [
    "#####\n",
    "# 드롭아웃 기법 적용\n",
    "# tf.nn.dropout()\n",
    "#####\n",
    "\n",
    "keep_prob = tf.placeholder(tf.float32)\n",
    "\n",
    "W1 = tf.Variable(tf.random_normal([784, 256], stddev=0.01))\n",
    "L1 = tf.nn.relu(tf.matmul(X, W1))\n",
    "L1 = tf.nn.dropout(L1, keep_prob)\n",
    "\n",
    "W2 = tf.Variable(tf.random_normal([256, 256], stddev=0.01))\n",
    "L2 = tf.nn.relu(tf.matmul(L1, W2))\n",
    "L2 = tf.nn.dropout(L2, keep_prob)\n",
    "\n",
    "W3 = tf.Variable(tf.random_normal([256, 10], stddev=0.01))\n",
    "model = tf.matmul(L2, W3)\n",
    "\n",
    "cost = tf.reduce_mean(tf.nn.softmax_cross_entropy_with_logits_v2(logits=model, labels=Y))\n",
    "optimizer = tf.train.AdamOptimizer(0.001).minimize(cost)\n",
    "\n",
    "init = tf.global_variables_initializer()\n",
    "sess = tf.Session()\n",
    "sess.run(init)\n",
    "\n",
    "batch_size = 100\n",
    "total_batch = int(mnist.train.num_examples / batch_size)\n",
    "\n",
    "for epoch in range(30):\n",
    "    total_cost = 0\n",
    "\n",
    "    for i in range(total_batch):\n",
    "        batch_xs, batch_ys = mnist.train.next_batch(batch_size)\n",
    "\n",
    "        _, cost_val = sess.run([optimizer, cost], feed_dict={X: batch_xs,Y: batch_ys,keep_prob: 0.8})\n",
    "        total_cost += cost_val\n",
    "\n",
    "    print('Epoch:', '%04d' % (epoch + 1),\n",
    "          'Avg. cost =', '{:.3f}'.format(total_cost / total_batch))\n",
    "\n",
    "print('최적화 완료!')"
   ]
  },
  {
   "cell_type": "code",
   "execution_count": 10,
   "metadata": {},
   "outputs": [
    {
     "name": "stdout",
     "output_type": "stream",
     "text": [
      "정확도: 0.9838\n"
     ]
    }
   ],
   "source": [
    "# 정확도 높아짐\n",
    "is_correct = tf.equal(tf.argmax(model, 1), tf.argmax(Y, 1))\n",
    "accuracy = tf.reduce_mean(tf.cast(is_correct, tf.float32))\n",
    "print('정확도:', sess.run(accuracy,feed_dict={X: mnist.test.images,Y: mnist.test.labels,keep_prob: 1}))"
   ]
  },
  {
   "cell_type": "code",
   "execution_count": 22,
   "metadata": {},
   "outputs": [
    {
     "name": "stdout",
     "output_type": "stream",
     "text": [
      "Epoch: 0001 Avg. cost = 0.401\n",
      "Epoch: 0002 Avg. cost = 0.150\n",
      "Epoch: 0003 Avg. cost = 0.096\n",
      "Epoch: 0004 Avg. cost = 0.068\n",
      "Epoch: 0005 Avg. cost = 0.051\n",
      "Epoch: 0006 Avg. cost = 0.041\n",
      "Epoch: 0007 Avg. cost = 0.029\n",
      "Epoch: 0008 Avg. cost = 0.024\n",
      "Epoch: 0009 Avg. cost = 0.021\n",
      "Epoch: 0010 Avg. cost = 0.018\n",
      "Epoch: 0011 Avg. cost = 0.016\n",
      "Epoch: 0012 Avg. cost = 0.013\n",
      "Epoch: 0013 Avg. cost = 0.012\n",
      "Epoch: 0014 Avg. cost = 0.010\n",
      "Epoch: 0015 Avg. cost = 0.013\n",
      "Epoch: 0016 Avg. cost = 0.010\n",
      "Epoch: 0017 Avg. cost = 0.009\n",
      "Epoch: 0018 Avg. cost = 0.008\n",
      "Epoch: 0019 Avg. cost = 0.008\n",
      "Epoch: 0020 Avg. cost = 0.009\n",
      "Epoch: 0021 Avg. cost = 0.005\n",
      "Epoch: 0022 Avg. cost = 0.010\n",
      "Epoch: 0023 Avg. cost = 0.007\n",
      "Epoch: 0024 Avg. cost = 0.008\n",
      "Epoch: 0025 Avg. cost = 0.007\n",
      "Epoch: 0026 Avg. cost = 0.009\n",
      "Epoch: 0027 Avg. cost = 0.005\n",
      "Epoch: 0028 Avg. cost = 0.003\n",
      "Epoch: 0029 Avg. cost = 0.010\n",
      "Epoch: 0030 Avg. cost = 0.005\n",
      "최적화 완료!\n",
      "정확도: 0.9796\n"
     ]
    }
   ],
   "source": [
    "W1 = tf.Variable(tf.random_normal([784, 256], stddev=0.01))\n",
    "L1 = tf.nn.relu(tf.matmul(X, W1))\n",
    "\n",
    "W2 = tf.Variable(tf.random_normal([256, 256], stddev=0.01))\n",
    "L2 = tf.nn.relu(tf.matmul(L1, W2))\n",
    "\n",
    "W3 = tf.Variable(tf.random_normal([256, 10], stddev=0.01))\n",
    "model = tf.matmul(L2, W3)\n",
    "\n",
    "cost = tf.reduce_mean(tf.nn.softmax_cross_entropy_with_logits_v2(logits=model, labels=Y))\n",
    "optimizer = tf.train.AdamOptimizer(0.001).minimize(cost)\n",
    "\n",
    "init = tf.global_variables_initializer()\n",
    "sess = tf.Session()\n",
    "sess.run(init)\n",
    "\n",
    "batch_size = 100\n",
    "total_batch = int(mnist.train.num_examples / batch_size)\n",
    "\n",
    "# 드롭아웃 사용하지 않은 모델 에포크 30번으로 늘림\n",
    "for epoch in range(30):\n",
    "    total_cost = 0\n",
    "\n",
    "    for i in range(total_batch):\n",
    "        batch_xs, batch_ys = mnist.train.next_batch(batch_size)\n",
    "\n",
    "        _, cost_val = sess.run([optimizer, cost], feed_dict={X: batch_xs, Y: batch_ys})\n",
    "        total_cost += cost_val\n",
    "\n",
    "    print('Epoch:', '%04d' % (epoch + 1), 'Avg. cost =', '{:.3f}'.format(total_cost/total_batch))\n",
    "\n",
    "print('최적화 완료!')\n",
    "\n",
    "# 과적합으로 인해 오히려 정확도 낮아짐\n",
    "is_correct = tf.equal(tf.argmax(model,1), tf.argmax(Y,1))\n",
    "accuracy = tf.reduce_mean(tf.cast(is_correct, tf.float32))\n",
    "\n",
    "print('정확도:', sess.run(accuracy,feed_dict={X: mnist.test.images,Y: mnist.test.labels}))"
   ]
  },
  {
   "cell_type": "code",
   "execution_count": 26,
   "metadata": {},
   "outputs": [
    {
     "data": {
      "image/png": "[encoded data removed]",
      "text/plain": [
       "<Figure size 432x288 with 10 Axes>"
      ]
     },
     "metadata": {},
     "output_type": "display_data"
    }
   ],
   "source": [
    "#matplotlib 이용하여 학습결과 손글씨 이미지로 확인\n",
    "labels = sess.run(model,feed_dict={X: mnist.test.images, Y: mnist.test.labels, keep_prob: 1})\n",
    "\n",
    "fig = plt.figure()\n",
    "\n",
    "for i in range(10):\n",
    "    # 2x5행렬의 i+1번째 칸에 그래프 그리기\n",
    "    subplot = fig.add_subplot(2, 5, i + 1)\n",
    "    # x,y 눈금 출력 안함\n",
    "    subplot.set_xticks([])\n",
    "    subplot.set_yticks([])\n",
    "    #가장 높은값 가진 인덱스가 예측 숫자\n",
    "    subplot.set_title('%d' % np.argmax(labels[i]))\n",
    "    subplot.imshow(mnist.test.images[i].reshape((28, 28)), cmap=plt.cm.gray_r)\n",
    "\n",
    "plt.show()"
   ]
  },
  {
   "cell_type": "code",
   "execution_count": null,
   "metadata": {},
   "outputs": [],
   "source": []
  }
 ],
 "metadata": {
  "kernelspec": {
   "display_name": "Python 3",
   "language": "python",
   "name": "python3"
  },
  "language_info": {
   "codemirror_mode": {
    "name": "ipython",
    "version": 3
   },
   "file_extension": ".py",
   "mimetype": "text/x-python",
   "name": "python",
   "nbconvert_exporter": "python",
   "pygments_lexer": "ipython3",
   "version": "3.6.5"
  }
 },
 "nbformat": 4,
 "nbformat_minor": 4
}
